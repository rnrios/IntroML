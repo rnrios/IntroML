{
  "nbformat": 4,
  "nbformat_minor": 0,
  "metadata": {
    "colab": {
      "name": "cross_validation.ipynb",
      "provenance": [],
      "authorship_tag": "ABX9TyMQsYJiFSXmzC4YbYg8oHy5",
      "include_colab_link": true
    },
    "kernelspec": {
      "name": "python3",
      "display_name": "Python 3"
    },
    "language_info": {
      "name": "python"
    }
  },
  "cells": [
    {
      "cell_type": "markdown",
      "metadata": {
        "id": "view-in-github",
        "colab_type": "text"
      },
      "source": [
        "<a href=\"https://colab.research.google.com/github/rnrios/IntroML/blob/master/cross_validation/cross_validation.ipynb\" target=\"_parent\"><img src=\"https://colab.research.google.com/assets/colab-badge.svg\" alt=\"Open In Colab\"/></a>"
      ]
    },
    {
      "cell_type": "code",
      "metadata": {
        "id": "zsOJcQAnc8RZ"
      },
      "source": [
        "import pandas as pd\n",
        "\n",
        "\n",
        "data = pd.read_csv('https://gist.githubusercontent.com/guilhermesilveira/4d1d4a16ccbf6ea4e0a64a38a24ec884/raw/afd05cb0c796d18f3f5a6537053ded308ba94bf7/car-prices.csv')"
      ],
      "execution_count": null,
      "outputs": []
    },
    {
      "cell_type": "markdown",
      "metadata": {
        "id": "6QoukE9SccWs"
      },
      "source": [
        "#Pre-processing"
      ]
    },
    {
      "cell_type": "code",
      "metadata": {
        "colab": {
          "base_uri": "https://localhost:8080/",
          "height": 206
        },
        "id": "7YTZ6qvSaFBq",
        "outputId": "0163d580-2d75-40af-91fa-9368aac97ea7"
      },
      "source": [
        "data.head()"
      ],
      "execution_count": null,
      "outputs": [
        {
          "output_type": "execute_result",
          "data": {
            "text/html": [
              "<div>\n",
              "<style scoped>\n",
              "    .dataframe tbody tr th:only-of-type {\n",
              "        vertical-align: middle;\n",
              "    }\n",
              "\n",
              "    .dataframe tbody tr th {\n",
              "        vertical-align: top;\n",
              "    }\n",
              "\n",
              "    .dataframe thead th {\n",
              "        text-align: right;\n",
              "    }\n",
              "</style>\n",
              "<table border=\"1\" class=\"dataframe\">\n",
              "  <thead>\n",
              "    <tr style=\"text-align: right;\">\n",
              "      <th></th>\n",
              "      <th>Unnamed: 0</th>\n",
              "      <th>mileage_per_year</th>\n",
              "      <th>model_year</th>\n",
              "      <th>price</th>\n",
              "      <th>sold</th>\n",
              "    </tr>\n",
              "  </thead>\n",
              "  <tbody>\n",
              "    <tr>\n",
              "      <th>0</th>\n",
              "      <td>0</td>\n",
              "      <td>21801</td>\n",
              "      <td>2000</td>\n",
              "      <td>30941.02</td>\n",
              "      <td>yes</td>\n",
              "    </tr>\n",
              "    <tr>\n",
              "      <th>1</th>\n",
              "      <td>1</td>\n",
              "      <td>7843</td>\n",
              "      <td>1998</td>\n",
              "      <td>40557.96</td>\n",
              "      <td>yes</td>\n",
              "    </tr>\n",
              "    <tr>\n",
              "      <th>2</th>\n",
              "      <td>2</td>\n",
              "      <td>7109</td>\n",
              "      <td>2006</td>\n",
              "      <td>89627.50</td>\n",
              "      <td>no</td>\n",
              "    </tr>\n",
              "    <tr>\n",
              "      <th>3</th>\n",
              "      <td>3</td>\n",
              "      <td>26823</td>\n",
              "      <td>2015</td>\n",
              "      <td>95276.14</td>\n",
              "      <td>no</td>\n",
              "    </tr>\n",
              "    <tr>\n",
              "      <th>4</th>\n",
              "      <td>4</td>\n",
              "      <td>7935</td>\n",
              "      <td>2014</td>\n",
              "      <td>117384.68</td>\n",
              "      <td>yes</td>\n",
              "    </tr>\n",
              "  </tbody>\n",
              "</table>\n",
              "</div>"
            ],
            "text/plain": [
              "   Unnamed: 0  mileage_per_year  model_year      price sold\n",
              "0           0             21801        2000   30941.02  yes\n",
              "1           1              7843        1998   40557.96  yes\n",
              "2           2              7109        2006   89627.50   no\n",
              "3           3             26823        2015   95276.14   no\n",
              "4           4              7935        2014  117384.68  yes"
            ]
          },
          "metadata": {},
          "execution_count": 16
        }
      ]
    },
    {
      "cell_type": "code",
      "metadata": {
        "id": "po-lJtRGaF0r"
      },
      "source": [
        "swap = {\n",
        "    'no': 0,\n",
        "     'yes': 1\n",
        "}\n",
        "data.sold = data.sold.map(swap)"
      ],
      "execution_count": null,
      "outputs": []
    },
    {
      "cell_type": "code",
      "metadata": {
        "colab": {
          "base_uri": "https://localhost:8080/",
          "height": 206
        },
        "id": "VuVLSozkabHb",
        "outputId": "d1bab642-5e58-4175-f6a1-6a3d03a2ec29"
      },
      "source": [
        "data.head()"
      ],
      "execution_count": null,
      "outputs": [
        {
          "output_type": "execute_result",
          "data": {
            "text/html": [
              "<div>\n",
              "<style scoped>\n",
              "    .dataframe tbody tr th:only-of-type {\n",
              "        vertical-align: middle;\n",
              "    }\n",
              "\n",
              "    .dataframe tbody tr th {\n",
              "        vertical-align: top;\n",
              "    }\n",
              "\n",
              "    .dataframe thead th {\n",
              "        text-align: right;\n",
              "    }\n",
              "</style>\n",
              "<table border=\"1\" class=\"dataframe\">\n",
              "  <thead>\n",
              "    <tr style=\"text-align: right;\">\n",
              "      <th></th>\n",
              "      <th>Unnamed: 0</th>\n",
              "      <th>mileage_per_year</th>\n",
              "      <th>model_year</th>\n",
              "      <th>price</th>\n",
              "      <th>sold</th>\n",
              "    </tr>\n",
              "  </thead>\n",
              "  <tbody>\n",
              "    <tr>\n",
              "      <th>0</th>\n",
              "      <td>0</td>\n",
              "      <td>21801</td>\n",
              "      <td>2000</td>\n",
              "      <td>30941.02</td>\n",
              "      <td>1</td>\n",
              "    </tr>\n",
              "    <tr>\n",
              "      <th>1</th>\n",
              "      <td>1</td>\n",
              "      <td>7843</td>\n",
              "      <td>1998</td>\n",
              "      <td>40557.96</td>\n",
              "      <td>1</td>\n",
              "    </tr>\n",
              "    <tr>\n",
              "      <th>2</th>\n",
              "      <td>2</td>\n",
              "      <td>7109</td>\n",
              "      <td>2006</td>\n",
              "      <td>89627.50</td>\n",
              "      <td>0</td>\n",
              "    </tr>\n",
              "    <tr>\n",
              "      <th>3</th>\n",
              "      <td>3</td>\n",
              "      <td>26823</td>\n",
              "      <td>2015</td>\n",
              "      <td>95276.14</td>\n",
              "      <td>0</td>\n",
              "    </tr>\n",
              "    <tr>\n",
              "      <th>4</th>\n",
              "      <td>4</td>\n",
              "      <td>7935</td>\n",
              "      <td>2014</td>\n",
              "      <td>117384.68</td>\n",
              "      <td>1</td>\n",
              "    </tr>\n",
              "  </tbody>\n",
              "</table>\n",
              "</div>"
            ],
            "text/plain": [
              "   Unnamed: 0  mileage_per_year  model_year      price  sold\n",
              "0           0             21801        2000   30941.02     1\n",
              "1           1              7843        1998   40557.96     1\n",
              "2           2              7109        2006   89627.50     0\n",
              "3           3             26823        2015   95276.14     0\n",
              "4           4              7935        2014  117384.68     1"
            ]
          },
          "metadata": {},
          "execution_count": 18
        }
      ]
    },
    {
      "cell_type": "code",
      "metadata": {
        "colab": {
          "base_uri": "https://localhost:8080/",
          "height": 206
        },
        "id": "8wJRjDnlagOa",
        "outputId": "3e6a699a-1614-48f5-de4a-68471473d78c"
      },
      "source": [
        "from datetime import datetime\n",
        "\n",
        "current_year = datetime.today().year\n",
        "data['model_age'] = current_year - data.model_year\n",
        "data.head()"
      ],
      "execution_count": null,
      "outputs": [
        {
          "output_type": "execute_result",
          "data": {
            "text/html": [
              "<div>\n",
              "<style scoped>\n",
              "    .dataframe tbody tr th:only-of-type {\n",
              "        vertical-align: middle;\n",
              "    }\n",
              "\n",
              "    .dataframe tbody tr th {\n",
              "        vertical-align: top;\n",
              "    }\n",
              "\n",
              "    .dataframe thead th {\n",
              "        text-align: right;\n",
              "    }\n",
              "</style>\n",
              "<table border=\"1\" class=\"dataframe\">\n",
              "  <thead>\n",
              "    <tr style=\"text-align: right;\">\n",
              "      <th></th>\n",
              "      <th>Unnamed: 0</th>\n",
              "      <th>mileage_per_year</th>\n",
              "      <th>model_year</th>\n",
              "      <th>price</th>\n",
              "      <th>sold</th>\n",
              "      <th>model_age</th>\n",
              "    </tr>\n",
              "  </thead>\n",
              "  <tbody>\n",
              "    <tr>\n",
              "      <th>0</th>\n",
              "      <td>0</td>\n",
              "      <td>21801</td>\n",
              "      <td>2000</td>\n",
              "      <td>30941.02</td>\n",
              "      <td>1</td>\n",
              "      <td>21</td>\n",
              "    </tr>\n",
              "    <tr>\n",
              "      <th>1</th>\n",
              "      <td>1</td>\n",
              "      <td>7843</td>\n",
              "      <td>1998</td>\n",
              "      <td>40557.96</td>\n",
              "      <td>1</td>\n",
              "      <td>23</td>\n",
              "    </tr>\n",
              "    <tr>\n",
              "      <th>2</th>\n",
              "      <td>2</td>\n",
              "      <td>7109</td>\n",
              "      <td>2006</td>\n",
              "      <td>89627.50</td>\n",
              "      <td>0</td>\n",
              "      <td>15</td>\n",
              "    </tr>\n",
              "    <tr>\n",
              "      <th>3</th>\n",
              "      <td>3</td>\n",
              "      <td>26823</td>\n",
              "      <td>2015</td>\n",
              "      <td>95276.14</td>\n",
              "      <td>0</td>\n",
              "      <td>6</td>\n",
              "    </tr>\n",
              "    <tr>\n",
              "      <th>4</th>\n",
              "      <td>4</td>\n",
              "      <td>7935</td>\n",
              "      <td>2014</td>\n",
              "      <td>117384.68</td>\n",
              "      <td>1</td>\n",
              "      <td>7</td>\n",
              "    </tr>\n",
              "  </tbody>\n",
              "</table>\n",
              "</div>"
            ],
            "text/plain": [
              "   Unnamed: 0  mileage_per_year  model_year      price  sold  model_age\n",
              "0           0             21801        2000   30941.02     1         21\n",
              "1           1              7843        1998   40557.96     1         23\n",
              "2           2              7109        2006   89627.50     0         15\n",
              "3           3             26823        2015   95276.14     0          6\n",
              "4           4              7935        2014  117384.68     1          7"
            ]
          },
          "metadata": {},
          "execution_count": 19
        }
      ]
    },
    {
      "cell_type": "code",
      "metadata": {
        "colab": {
          "base_uri": "https://localhost:8080/",
          "height": 206
        },
        "id": "EeUNRqeCbEqw",
        "outputId": "0b99f292-bfc5-4fae-f8ab-d063f5bf9c69"
      },
      "source": [
        "data = data.drop(columns=['Unnamed: 0', 'model_year'], axis=1)\n",
        "data.head()  "
      ],
      "execution_count": null,
      "outputs": [
        {
          "output_type": "execute_result",
          "data": {
            "text/html": [
              "<div>\n",
              "<style scoped>\n",
              "    .dataframe tbody tr th:only-of-type {\n",
              "        vertical-align: middle;\n",
              "    }\n",
              "\n",
              "    .dataframe tbody tr th {\n",
              "        vertical-align: top;\n",
              "    }\n",
              "\n",
              "    .dataframe thead th {\n",
              "        text-align: right;\n",
              "    }\n",
              "</style>\n",
              "<table border=\"1\" class=\"dataframe\">\n",
              "  <thead>\n",
              "    <tr style=\"text-align: right;\">\n",
              "      <th></th>\n",
              "      <th>mileage_per_year</th>\n",
              "      <th>price</th>\n",
              "      <th>sold</th>\n",
              "      <th>model_age</th>\n",
              "    </tr>\n",
              "  </thead>\n",
              "  <tbody>\n",
              "    <tr>\n",
              "      <th>0</th>\n",
              "      <td>21801</td>\n",
              "      <td>30941.02</td>\n",
              "      <td>1</td>\n",
              "      <td>21</td>\n",
              "    </tr>\n",
              "    <tr>\n",
              "      <th>1</th>\n",
              "      <td>7843</td>\n",
              "      <td>40557.96</td>\n",
              "      <td>1</td>\n",
              "      <td>23</td>\n",
              "    </tr>\n",
              "    <tr>\n",
              "      <th>2</th>\n",
              "      <td>7109</td>\n",
              "      <td>89627.50</td>\n",
              "      <td>0</td>\n",
              "      <td>15</td>\n",
              "    </tr>\n",
              "    <tr>\n",
              "      <th>3</th>\n",
              "      <td>26823</td>\n",
              "      <td>95276.14</td>\n",
              "      <td>0</td>\n",
              "      <td>6</td>\n",
              "    </tr>\n",
              "    <tr>\n",
              "      <th>4</th>\n",
              "      <td>7935</td>\n",
              "      <td>117384.68</td>\n",
              "      <td>1</td>\n",
              "      <td>7</td>\n",
              "    </tr>\n",
              "  </tbody>\n",
              "</table>\n",
              "</div>"
            ],
            "text/plain": [
              "   mileage_per_year      price  sold  model_age\n",
              "0             21801   30941.02     1         21\n",
              "1              7843   40557.96     1         23\n",
              "2              7109   89627.50     0         15\n",
              "3             26823   95276.14     0          6\n",
              "4              7935  117384.68     1          7"
            ]
          },
          "metadata": {},
          "execution_count": 20
        }
      ]
    },
    {
      "cell_type": "markdown",
      "metadata": {
        "id": "Pe_Cba-hl6L6"
      },
      "source": [
        "#Validating model with K-fold"
      ]
    },
    {
      "cell_type": "code",
      "metadata": {
        "colab": {
          "base_uri": "https://localhost:8080/"
        },
        "id": "FvQ93QHPl3PG",
        "outputId": "a5e4a963-e3ea-45a2-970c-cd2f2a8bdf6f"
      },
      "source": [
        "from sklearn.model_selection import train_test_split\n",
        "from sklearn.tree import DecisionTreeClassifier\n",
        "from sklearn.metrics import accuracy_score\n",
        "import numpy as np\n",
        "\n",
        "X = data[['mileage_per_year', 'price', 'model_age']]\n",
        "Y = data['sold']\n",
        "\n",
        "SEED = 13\n",
        "X_train, X_test, Y_train, Y_test = train_test_split(X, Y, \n",
        "                                                    test_size=.25, \n",
        "                                                    random_state=SEED, \n",
        "                                                    stratify=Y)\n",
        "\n",
        "model = DecisionTreeClassifier(random_state=SEED, max_depth=2)\n",
        "model.fit(X_train, Y_train)\n",
        "predictions = model.predict(X_test)\n",
        "\n",
        "acc = accuracy_score(Y_test, predictions)\n",
        "print(\"Accuracy on test dataset: %.2f\"% acc)"
      ],
      "execution_count": null,
      "outputs": [
        {
          "output_type": "stream",
          "name": "stdout",
          "text": [
            "Accuracy on test dataset: 0.77\n"
          ]
        }
      ]
    },
    {
      "cell_type": "code",
      "metadata": {
        "colab": {
          "base_uri": "https://localhost:8080/"
        },
        "id": "P55kv0jPmIdr",
        "outputId": "b2ec5674-523f-4cd7-dd54-1da4be872532"
      },
      "source": [
        "from sklearn.model_selection import cross_validate\n",
        "\n",
        "\n",
        "SEED = 13\n",
        "np.random.seed(SEED)\n",
        "\n",
        "model = DecisionTreeClassifier(max_depth=2)\n",
        "results = cross_validate(model, X, Y, cv=5, return_train_score=False)\n",
        "mean = results['test_score'].mean()\n",
        "std = results['test_score'].std()\n",
        "print('Mean accuracy: {:.3f}'.format(mean))\n",
        "print('Accuracy with 5-fold (IC=.95): [{:.3f} {:.3f}]'.format(mean-2*std, mean+2*std))"
      ],
      "execution_count": null,
      "outputs": [
        {
          "output_type": "stream",
          "name": "stdout",
          "text": [
            "Mean accuracy: 0.758\n",
            "Accuracy with 5-fold (IC=.95): [0.752 0.764]\n"
          ]
        }
      ]
    },
    {
      "cell_type": "markdown",
      "metadata": {
        "id": "iK1xXlKpo3AZ"
      },
      "source": [
        "#KFold shuffling data"
      ]
    },
    {
      "cell_type": "code",
      "metadata": {
        "colab": {
          "base_uri": "https://localhost:8080/"
        },
        "id": "HJPUK8AwoCvm",
        "outputId": "dfafd510-c105-4a7e-eb31-07efc2f87196"
      },
      "source": [
        "from sklearn.model_selection import KFold\n",
        "\n",
        "\n",
        "SEED = 13\n",
        "np.random.seed(SEED)\n",
        "\n",
        "cv = KFold(n_splits=5, shuffle=True)\n",
        "model = DecisionTreeClassifier(max_depth=2)\n",
        "results = cross_validate(model, X, Y, cv=cv, return_train_score=False)\n",
        "\n",
        "\n",
        "mean = results['test_score'].mean()\n",
        "std = results['test_score'].std()\n",
        "print('Mean accuracy: {:.3f}'.format(mean))\n",
        "print('Accuracy with 5-fold (IC=.95): [{:.3f} {:.3f}]'.format(mean-2*std, mean+2*std))"
      ],
      "execution_count": null,
      "outputs": [
        {
          "output_type": "stream",
          "name": "stdout",
          "text": [
            "Mean accuracy: 0.758\n",
            "Accuracy with 5-fold (IC=.95): [0.745 0.770]\n"
          ]
        }
      ]
    },
    {
      "cell_type": "code",
      "metadata": {
        "colab": {
          "base_uri": "https://localhost:8080/"
        },
        "id": "4vKEnOqDoXln",
        "outputId": "209ee6da-2a62-49d1-b4e0-c1e6d61b7bfe"
      },
      "source": [
        "from sklearn.model_selection import StratifiedKFold\n",
        "\n",
        "\n",
        "SEED = 13\n",
        "np.random.seed(SEED)\n",
        "\n",
        "cv = StratifiedKFold(n_splits=5, shuffle=True)\n",
        "model = DecisionTreeClassifier(max_depth=2)\n",
        "results = cross_validate(model, X, Y, cv=cv, return_train_score=False)\n",
        "\n",
        "\n",
        "mean = results['test_score'].mean()\n",
        "std = results['test_score'].std()\n",
        "print('Mean accuracy: {:.3f}'.format(mean))\n",
        "print('Accuracy with 5-fold (IC=.95): [{:.3f} {:.3f}]'.format(mean-2*std, mean+2*std))"
      ],
      "execution_count": null,
      "outputs": [
        {
          "output_type": "stream",
          "name": "stdout",
          "text": [
            "Mean accuracy: 0.758\n",
            "Accuracy with 5-fold (IC=.95): [0.747 0.769]\n"
          ]
        }
      ]
    },
    {
      "cell_type": "markdown",
      "metadata": {
        "id": "_6N6D-n-sO1M"
      },
      "source": [
        "#Generalization hability"
      ]
    },
    {
      "cell_type": "code",
      "metadata": {
        "colab": {
          "base_uri": "https://localhost:8080/"
        },
        "id": "xOMQR27lsqVp",
        "outputId": "eb612aeb-614f-41df-e9ca-9169435aed0d"
      },
      "source": [
        "len(data)"
      ],
      "execution_count": null,
      "outputs": [
        {
          "output_type": "execute_result",
          "data": {
            "text/plain": [
              "10000"
            ]
          },
          "metadata": {},
          "execution_count": 38
        }
      ]
    },
    {
      "cell_type": "code",
      "metadata": {
        "id": "_4ke7NC-sOI-"
      },
      "source": [
        "#Can we classify new models based on experience with \n",
        "np.random.seed(SEED)\n",
        "\n",
        "random_offset = np.random.randint(0, 5, size=len(data))\n",
        "\n",
        "model_id = data.model_age + random_offset -3"
      ],
      "execution_count": null,
      "outputs": []
    },
    {
      "cell_type": "code",
      "metadata": {
        "colab": {
          "base_uri": "https://localhost:8080/",
          "height": 206
        },
        "id": "XT2Oa8-atF1D",
        "outputId": "36c99073-0615-464d-f1f0-9c2f9c30b847"
      },
      "source": [
        "data['model_id'] = model_id\n",
        "data.head()"
      ],
      "execution_count": null,
      "outputs": [
        {
          "output_type": "execute_result",
          "data": {
            "text/html": [
              "<div>\n",
              "<style scoped>\n",
              "    .dataframe tbody tr th:only-of-type {\n",
              "        vertical-align: middle;\n",
              "    }\n",
              "\n",
              "    .dataframe tbody tr th {\n",
              "        vertical-align: top;\n",
              "    }\n",
              "\n",
              "    .dataframe thead th {\n",
              "        text-align: right;\n",
              "    }\n",
              "</style>\n",
              "<table border=\"1\" class=\"dataframe\">\n",
              "  <thead>\n",
              "    <tr style=\"text-align: right;\">\n",
              "      <th></th>\n",
              "      <th>mileage_per_year</th>\n",
              "      <th>price</th>\n",
              "      <th>sold</th>\n",
              "      <th>model_age</th>\n",
              "      <th>model_id</th>\n",
              "    </tr>\n",
              "  </thead>\n",
              "  <tbody>\n",
              "    <tr>\n",
              "      <th>0</th>\n",
              "      <td>21801</td>\n",
              "      <td>30941.02</td>\n",
              "      <td>1</td>\n",
              "      <td>21</td>\n",
              "      <td>20</td>\n",
              "    </tr>\n",
              "    <tr>\n",
              "      <th>1</th>\n",
              "      <td>7843</td>\n",
              "      <td>40557.96</td>\n",
              "      <td>1</td>\n",
              "      <td>23</td>\n",
              "      <td>20</td>\n",
              "    </tr>\n",
              "    <tr>\n",
              "      <th>2</th>\n",
              "      <td>7109</td>\n",
              "      <td>89627.50</td>\n",
              "      <td>0</td>\n",
              "      <td>15</td>\n",
              "      <td>14</td>\n",
              "    </tr>\n",
              "    <tr>\n",
              "      <th>3</th>\n",
              "      <td>26823</td>\n",
              "      <td>95276.14</td>\n",
              "      <td>0</td>\n",
              "      <td>6</td>\n",
              "      <td>3</td>\n",
              "    </tr>\n",
              "    <tr>\n",
              "      <th>4</th>\n",
              "      <td>7935</td>\n",
              "      <td>117384.68</td>\n",
              "      <td>1</td>\n",
              "      <td>7</td>\n",
              "      <td>6</td>\n",
              "    </tr>\n",
              "  </tbody>\n",
              "</table>\n",
              "</div>"
            ],
            "text/plain": [
              "   mileage_per_year      price  sold  model_age  model_id\n",
              "0             21801   30941.02     1         21        20\n",
              "1              7843   40557.96     1         23        20\n",
              "2              7109   89627.50     0         15        14\n",
              "3             26823   95276.14     0          6         3\n",
              "4              7935  117384.68     1          7         6"
            ]
          },
          "metadata": {},
          "execution_count": 45
        }
      ]
    },
    {
      "cell_type": "code",
      "metadata": {
        "colab": {
          "base_uri": "https://localhost:8080/"
        },
        "id": "K5NOXu5hti78",
        "outputId": "3e8f144b-77fd-4f28-d154-b9de2cbbce57"
      },
      "source": [
        "#Grouping by model id\n",
        "from sklearn.model_selection import GroupKFold\n",
        "\n",
        "\n",
        "SEED = 13\n",
        "np.random.seed(SEED)\n",
        "\n",
        "cv = GroupKFold(n_splits=5)\n",
        "model = DecisionTreeClassifier(max_depth=2)\n",
        "results = cross_validate(model, X, Y, cv=cv, groups=data.model_id,\n",
        "                         return_train_score=False)\n",
        "\n",
        "\n",
        "mean = results['test_score'].mean()\n",
        "std = results['test_score'].std()\n",
        "print('Mean accuracy: {:.3f}'.format(mean))\n",
        "print('Accuracy with 5-fold (IC=.95): [{:.3f} {:.3f}]'.format(mean-2*std, mean+2*std))"
      ],
      "execution_count": null,
      "outputs": [
        {
          "output_type": "stream",
          "name": "stdout",
          "text": [
            "Mean accuracy: 0.758\n",
            "Accuracy with 5-fold (IC=.95): [0.735 0.781]\n"
          ]
        }
      ]
    },
    {
      "cell_type": "markdown",
      "metadata": {
        "id": "A-dVM0pwvOun"
      },
      "source": [
        "#Validating with data scaling"
      ]
    },
    {
      "cell_type": "code",
      "metadata": {
        "colab": {
          "base_uri": "https://localhost:8080/"
        },
        "id": "l9Ah3jf0wUB2",
        "outputId": "3dbda3b0-3f40-4f7b-ec80-05b5ac13cce5"
      },
      "source": [
        "from sklearn.preprocessing import StandardScaler\n",
        "from sklearn.svm import SVC\n",
        "from sklearn.pipeline import Pipeline\n",
        "\n",
        "\n",
        "\n",
        "scaler = StandardScaler()\n",
        "model = SVC()\n",
        "\n",
        "#scale fitting should be applied only to train set\n",
        "#scaler.fit(train) => scaler.transform(train), scaler.transform(test)\n",
        "pipeline = Pipeline([('transform', scaler), ('estimator', model)])\n",
        "\n",
        "SEED = 13\n",
        "np.random.seed(SEED)\n",
        "\n",
        "cv = GroupKFold(n_splits=5)\n",
        "results = cross_validate(pipeline, X, Y, cv=cv, groups=data.model_id,\n",
        "                         return_train_score=False)\n",
        "\n",
        "\n",
        "mean = results['test_score'].mean()\n",
        "std = results['test_score'].std()\n",
        "print('Mean accuracy: {:.3f}'.format(mean))\n",
        "print('Accuracy with 5-fold (IC=.95): [{:.3f} {:.3f}]'.format(mean-2*std, mean+2*std))"
      ],
      "execution_count": null,
      "outputs": [
        {
          "output_type": "stream",
          "name": "stdout",
          "text": [
            "Mean accuracy: 0.766\n",
            "Accuracy with 5-fold (IC=.95): [0.743 0.790]\n"
          ]
        }
      ]
    },
    {
      "cell_type": "markdown",
      "metadata": {
        "id": "vNCwLgOD6gx6"
      },
      "source": [
        "#Biased (on purpose) Data"
      ]
    },
    {
      "cell_type": "code",
      "metadata": {
        "colab": {
          "base_uri": "https://localhost:8080/",
          "height": 206
        },
        "id": "fd6LNjK66UEf",
        "outputId": "c6318683-a516-46b6-c58e-9d2adf9b4594"
      },
      "source": [
        "biased_data = data.sort_values(\"sold\", ascending=True)\n",
        "x_biased = biased_data[[\"price\", \"model_age\",\"mileage_per_year\"]]\n",
        "y_biased = biased_data[\"sold\"]\n",
        "biased_data.head()"
      ],
      "execution_count": null,
      "outputs": [
        {
          "output_type": "execute_result",
          "data": {
            "text/html": [
              "<div>\n",
              "<style scoped>\n",
              "    .dataframe tbody tr th:only-of-type {\n",
              "        vertical-align: middle;\n",
              "    }\n",
              "\n",
              "    .dataframe tbody tr th {\n",
              "        vertical-align: top;\n",
              "    }\n",
              "\n",
              "    .dataframe thead th {\n",
              "        text-align: right;\n",
              "    }\n",
              "</style>\n",
              "<table border=\"1\" class=\"dataframe\">\n",
              "  <thead>\n",
              "    <tr style=\"text-align: right;\">\n",
              "      <th></th>\n",
              "      <th>mileage_per_year</th>\n",
              "      <th>price</th>\n",
              "      <th>sold</th>\n",
              "      <th>model_age</th>\n",
              "      <th>model_id</th>\n",
              "    </tr>\n",
              "  </thead>\n",
              "  <tbody>\n",
              "    <tr>\n",
              "      <th>4999</th>\n",
              "      <td>15418</td>\n",
              "      <td>74023.29</td>\n",
              "      <td>0</td>\n",
              "      <td>15</td>\n",
              "      <td>12</td>\n",
              "    </tr>\n",
              "    <tr>\n",
              "      <th>5322</th>\n",
              "      <td>14351</td>\n",
              "      <td>84843.49</td>\n",
              "      <td>0</td>\n",
              "      <td>16</td>\n",
              "      <td>13</td>\n",
              "    </tr>\n",
              "    <tr>\n",
              "      <th>5319</th>\n",
              "      <td>22519</td>\n",
              "      <td>83100.27</td>\n",
              "      <td>0</td>\n",
              "      <td>22</td>\n",
              "      <td>22</td>\n",
              "    </tr>\n",
              "    <tr>\n",
              "      <th>5316</th>\n",
              "      <td>20039</td>\n",
              "      <td>87932.13</td>\n",
              "      <td>0</td>\n",
              "      <td>19</td>\n",
              "      <td>18</td>\n",
              "    </tr>\n",
              "    <tr>\n",
              "      <th>5315</th>\n",
              "      <td>17656</td>\n",
              "      <td>77937.01</td>\n",
              "      <td>0</td>\n",
              "      <td>18</td>\n",
              "      <td>18</td>\n",
              "    </tr>\n",
              "  </tbody>\n",
              "</table>\n",
              "</div>"
            ],
            "text/plain": [
              "      mileage_per_year     price  sold  model_age  model_id\n",
              "4999             15418  74023.29     0         15        12\n",
              "5322             14351  84843.49     0         16        13\n",
              "5319             22519  83100.27     0         22        22\n",
              "5316             20039  87932.13     0         19        18\n",
              "5315             17656  77937.01     0         18        18"
            ]
          },
          "metadata": {},
          "execution_count": 51
        }
      ]
    },
    {
      "cell_type": "code",
      "metadata": {
        "colab": {
          "base_uri": "https://localhost:8080/"
        },
        "id": "kgb0Mgz16pjf",
        "outputId": "39edf046-cd85-4e4f-a58a-11e520545dbf"
      },
      "source": [
        "SEED = 13\n",
        "np.random.seed(SEED)\n",
        "\n",
        "cv = KFold(n_splits = 5)\n",
        "model = DecisionTreeClassifier(max_depth=2)\n",
        "results = cross_validate(model, x_biased, y_biased, cv = cv, return_train_score=False)\n",
        "\n",
        "mean = results['test_score'].mean()\n",
        "std = results['test_score'].std()\n",
        "print('Mean accuracy: {:.3f}'.format(mean))\n",
        "print('Accuracy with 5-fold (IC=.95): [{:.3f} {:.3f}]'.format(mean-2*std, mean+2*std))"
      ],
      "execution_count": null,
      "outputs": [
        {
          "output_type": "stream",
          "name": "stdout",
          "text": [
            "Mean accuracy: 0.597\n",
            "Accuracy with 5-fold (IC=.95): [0.322 0.872]\n"
          ]
        }
      ]
    },
    {
      "cell_type": "code",
      "metadata": {
        "colab": {
          "base_uri": "https://localhost:8080/"
        },
        "id": "-x2nfW2B7_KH",
        "outputId": "e3f0cda9-c7a3-4201-8780-11e0a3cc2af4"
      },
      "source": [
        "SEED = 13\n",
        "np.random.seed(SEED)\n",
        "\n",
        "cv = KFold(n_splits = 5, shuffle=True)\n",
        "model = DecisionTreeClassifier(max_depth=2)\n",
        "results = cross_validate(model, x_biased, y_biased, cv = cv, return_train_score=False)\n",
        "\n",
        "mean = results['test_score'].mean()\n",
        "std = results['test_score'].std()\n",
        "print('Mean accuracy: {:.3f}'.format(mean))\n",
        "print('Accuracy with 5-fold (IC=.95): [{:.3f} {:.3f}]'.format(mean-2*std, mean+2*std))"
      ],
      "execution_count": null,
      "outputs": [
        {
          "output_type": "stream",
          "name": "stdout",
          "text": [
            "Mean accuracy: 0.758\n",
            "Accuracy with 5-fold (IC=.95): [0.747 0.769]\n"
          ]
        }
      ]
    },
    {
      "cell_type": "code",
      "metadata": {
        "colab": {
          "base_uri": "https://localhost:8080/"
        },
        "id": "OW_tQo7M8e1F",
        "outputId": "b9ab97e1-7737-4de1-f3bd-e44711e59b83"
      },
      "source": [
        "SEED = 13\n",
        "np.random.seed(SEED)\n",
        "\n",
        "cv = GroupKFold(n_splits = 5)\n",
        "model = DecisionTreeClassifier(max_depth=2)\n",
        "results = cross_validate(model, x_biased, y_biased, groups=data.model_id, cv = cv, return_train_score=False)\n",
        "\n",
        "mean = results['test_score'].mean()\n",
        "std = results['test_score'].std()\n",
        "print('Mean accuracy: {:.3f}'.format(mean))\n",
        "print('Accuracy with 5-fold (IC=.95): [{:.3f} {:.3f}]'.format(mean-2*std, mean+2*std))"
      ],
      "execution_count": null,
      "outputs": [
        {
          "output_type": "stream",
          "name": "stdout",
          "text": [
            "Mean accuracy: 0.758\n",
            "Accuracy with 5-fold (IC=.95): [0.731 0.785]\n"
          ]
        }
      ]
    }
  ]
}