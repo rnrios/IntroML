{
  "nbformat": 4,
  "nbformat_minor": 0,
  "metadata": {
    "colab": {
      "name": "dogs_and_cats.ipynb",
      "provenance": [],
      "authorship_tag": "ABX9TyNyZWkRZFbqbweNYgKjfHho",
      "include_colab_link": true
    },
    "kernelspec": {
      "name": "python3",
      "display_name": "Python 3"
    },
    "language_info": {
      "name": "python"
    }
  },
  "cells": [
    {
      "cell_type": "markdown",
      "metadata": {
        "id": "view-in-github",
        "colab_type": "text"
      },
      "source": [
        "<a href=\"https://colab.research.google.com/github/rnrios/IntroML/blob/master/binary_classification/dogs_and_cats.ipynb\" target=\"_parent\"><img src=\"https://colab.research.google.com/assets/colab-badge.svg\" alt=\"Open In Colab\"/></a>"
      ]
    },
    {
      "cell_type": "code",
      "metadata": {
        "id": "bJj4EyQty22Y"
      },
      "source": [
        "dog1 = [0, 1, 0]\n",
        "dog2 = [0, 1, 1]\n",
        "dog3 = [1, 1, 0]\n",
        "\n",
        "cat1 = [0, 1, 1]\n",
        "cat2 = [1, 0, 1]\n",
        "cat3 = [1, 1, 1]\n",
        "train_x = [dog1, dog2, dog3, cat1, cat2, cat3]\n",
        "train_y = [0, 0, 0, 1, 1, 1]"
      ],
      "execution_count": null,
      "outputs": []
    },
    {
      "cell_type": "code",
      "metadata": {
        "colab": {
          "base_uri": "https://localhost:8080/"
        },
        "id": "lNP3XGIK0QDi",
        "outputId": "044536dd-76d5-46f0-8830-5ce5fd4981ef"
      },
      "source": [
        "from sklearn.svm import LinearSVC\n",
        "\n",
        "model = LinearSVC()\n",
        "model.fit(train_x, train_y)"
      ],
      "execution_count": null,
      "outputs": [
        {
          "output_type": "execute_result",
          "data": {
            "text/plain": [
              "LinearSVC()"
            ]
          },
          "metadata": {},
          "execution_count": 11
        }
      ]
    },
    {
      "cell_type": "code",
      "metadata": {
        "id": "u_JZ56JT0ZiR"
      },
      "source": [
        "test_x = [[1, 1, 1], [1, 1, 0], [0, 0, 1]]\n",
        "test_y = [1, 0 ,0]\n",
        "predictions = model.predict(test_x)"
      ],
      "execution_count": null,
      "outputs": []
    },
    {
      "cell_type": "code",
      "metadata": {
        "colab": {
          "base_uri": "https://localhost:8080/"
        },
        "id": "Squ5fvjB0osy",
        "outputId": "947ee075-fe33-4456-bcc8-b2ce878caceb"
      },
      "source": [
        "correct = (predictions == test_y).sum()\n",
        "print(\"CCR: {:.2f}\".format(correct/len(test_y)))"
      ],
      "execution_count": null,
      "outputs": [
        {
          "output_type": "stream",
          "name": "stdout",
          "text": [
            "CCR: 0.67\n"
          ]
        }
      ]
    }
  ]
}